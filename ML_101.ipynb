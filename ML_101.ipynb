{
 "cells": [
  {
   "cell_type": "code",
   "execution_count": 149,
   "metadata": {},
   "outputs": [],
   "source": [
    "import glob\n",
    "import pandas as pd\n",
    "import sys\n",
    "import re\n",
    "import os\n",
    "import pickle\n",
    "import gzip\n",
    "\n",
    "import numpy as np\n",
    "import matplotlib.pyplot as plt\n",
    "from pylab import rcParams\n",
    "rcParams['figure.figsize'] = 15, 15\n",
    "\n",
    "from sklearn.model_selection import StratifiedShuffleSplit\n",
    "from sklearn.naive_bayes import MultinomialNB\n",
    "from sklearn.svm import SVC\n",
    "from sklearn.linear_model import LogisticRegression\n",
    "from sklearn.model_selection import GridSearchCV, StratifiedKFold\n",
    "from sklearn.multiclass import OneVsRestClassifier\n",
    "from sklearn.metrics import accuracy_score, f1_score, precision_score, recall_score, roc_curve, hamming_loss\n",
    "from sklearn.decomposition import TruncatedSVD\n",
    "from sklearn.neighbors import KNeighborsClassifier\n",
    "from sklearn.pipeline import Pipeline\n",
    "from sklearn.ensemble import RandomForestClassifier\n",
    "import scipy\n",
    "\n",
    "import nltk\n",
    "from sklearn.feature_extraction.text import ENGLISH_STOP_WORDS\n",
    "from nltk.stem import WordNetLemmatizer\n",
    "import re\n",
    "from sklearn.feature_extraction.text import TfidfVectorizer\n",
    "\n",
    "import seaborn as sns\n",
    "import warnings\n",
    "warnings.filterwarnings('ignore')"
   ]
  },
  {
   "cell_type": "code",
   "execution_count": 197,
   "metadata": {},
   "outputs": [],
   "source": [
    "#df=pd.read_csv('new_training_set.csv',names=['Title','Brand_1','Size','Original_Price','Current_Price','Last Bump','Flag'])\n",
    "\n",
    "#df=pd.read_csv('new_training_set_v.csv')\n",
    "\n",
    "df=pd.read_csv('Expanded_Grailed_Data.csv')"
   ]
  },
  {
   "cell_type": "code",
   "execution_count": 198,
   "metadata": {},
   "outputs": [
    {
     "name": "stdout",
     "output_type": "stream",
     "text": [
      "<class 'pandas.core.frame.DataFrame'>\n",
      "RangeIndex: 31116 entries, 0 to 31115\n",
      "Data columns (total 9 columns):\n",
      "ID            31116 non-null int64\n",
      "Title         31116 non-null object\n",
      "Brand         31116 non-null object\n",
      "Size          31116 non-null object\n",
      "Curr_Price    31116 non-null object\n",
      "Init_Price    31116 non-null object\n",
      "Listed_At     31116 non-null object\n",
      "Bumped_At     5926 non-null object\n",
      "Flag          31116 non-null int64\n",
      "dtypes: int64(2), object(7)\n",
      "memory usage: 2.1+ MB\n"
     ]
    }
   ],
   "source": [
    "df.info()"
   ]
  },
  {
   "cell_type": "code",
   "execution_count": 199,
   "metadata": {},
   "outputs": [
    {
     "data": {
      "text/html": [
       "<div>\n",
       "<style>\n",
       "    .dataframe thead tr:only-child th {\n",
       "        text-align: right;\n",
       "    }\n",
       "\n",
       "    .dataframe thead th {\n",
       "        text-align: left;\n",
       "    }\n",
       "\n",
       "    .dataframe tbody tr th {\n",
       "        vertical-align: top;\n",
       "    }\n",
       "</style>\n",
       "<table border=\"1\" class=\"dataframe\">\n",
       "  <thead>\n",
       "    <tr style=\"text-align: right;\">\n",
       "      <th></th>\n",
       "      <th>ID</th>\n",
       "      <th>Flag</th>\n",
       "    </tr>\n",
       "  </thead>\n",
       "  <tbody>\n",
       "    <tr>\n",
       "      <th>count</th>\n",
       "      <td>31116.000000</td>\n",
       "      <td>31116.000000</td>\n",
       "    </tr>\n",
       "    <tr>\n",
       "      <th>mean</th>\n",
       "      <td>15557.500000</td>\n",
       "      <td>0.088700</td>\n",
       "    </tr>\n",
       "    <tr>\n",
       "      <th>std</th>\n",
       "      <td>8982.559824</td>\n",
       "      <td>0.284315</td>\n",
       "    </tr>\n",
       "    <tr>\n",
       "      <th>min</th>\n",
       "      <td>0.000000</td>\n",
       "      <td>0.000000</td>\n",
       "    </tr>\n",
       "    <tr>\n",
       "      <th>25%</th>\n",
       "      <td>7778.750000</td>\n",
       "      <td>0.000000</td>\n",
       "    </tr>\n",
       "    <tr>\n",
       "      <th>50%</th>\n",
       "      <td>15557.500000</td>\n",
       "      <td>0.000000</td>\n",
       "    </tr>\n",
       "    <tr>\n",
       "      <th>75%</th>\n",
       "      <td>23336.250000</td>\n",
       "      <td>0.000000</td>\n",
       "    </tr>\n",
       "    <tr>\n",
       "      <th>max</th>\n",
       "      <td>31115.000000</td>\n",
       "      <td>1.000000</td>\n",
       "    </tr>\n",
       "  </tbody>\n",
       "</table>\n",
       "</div>"
      ],
      "text/plain": [
       "                 ID          Flag\n",
       "count  31116.000000  31116.000000\n",
       "mean   15557.500000      0.088700\n",
       "std     8982.559824      0.284315\n",
       "min        0.000000      0.000000\n",
       "25%     7778.750000      0.000000\n",
       "50%    15557.500000      0.000000\n",
       "75%    23336.250000      0.000000\n",
       "max    31115.000000      1.000000"
      ]
     },
     "execution_count": 199,
     "metadata": {},
     "output_type": "execute_result"
    }
   ],
   "source": [
    "df.describe()"
   ]
  },
  {
   "cell_type": "code",
   "execution_count": 200,
   "metadata": {},
   "outputs": [],
   "source": [
    "brand_list=[]"
   ]
  },
  {
   "cell_type": "code",
   "execution_count": 201,
   "metadata": {},
   "outputs": [],
   "source": [
    "for item in df['Brand'].str.split(' × '):\n",
    "    brand_list=brand_list+[x for x in item if len(x)>2]"
   ]
  },
  {
   "cell_type": "code",
   "execution_count": 202,
   "metadata": {},
   "outputs": [],
   "source": [
    "brand_list=list(set(brand_list))"
   ]
  },
  {
   "cell_type": "code",
   "execution_count": 204,
   "metadata": {},
   "outputs": [],
   "source": [
    "for brand in brand_list:\n",
    "    \n",
    "    df[brand] = df.apply(lambda r: 1 if brand in r['Brand'].split(' × ') else 0,axis = 1)"
   ]
  },
  {
   "cell_type": "code",
   "execution_count": 205,
   "metadata": {},
   "outputs": [
    {
     "data": {
      "text/html": [
       "<div>\n",
       "<style>\n",
       "    .dataframe thead tr:only-child th {\n",
       "        text-align: right;\n",
       "    }\n",
       "\n",
       "    .dataframe thead th {\n",
       "        text-align: left;\n",
       "    }\n",
       "\n",
       "    .dataframe tbody tr th {\n",
       "        vertical-align: top;\n",
       "    }\n",
       "</style>\n",
       "<table border=\"1\" class=\"dataframe\">\n",
       "  <thead>\n",
       "    <tr style=\"text-align: right;\">\n",
       "      <th></th>\n",
       "      <th>ID</th>\n",
       "      <th>Title</th>\n",
       "      <th>Brand</th>\n",
       "      <th>Size</th>\n",
       "      <th>Curr_Price</th>\n",
       "      <th>Init_Price</th>\n",
       "      <th>Listed_At</th>\n",
       "      <th>Bumped_At</th>\n",
       "      <th>Flag</th>\n",
       "      <th>Surface To Air</th>\n",
       "      <th>...</th>\n",
       "      <th>Goretex</th>\n",
       "      <th>Sanders</th>\n",
       "      <th>Acro</th>\n",
       "      <th>Alexander McQueen</th>\n",
       "      <th>Gosha Rubchinskiy</th>\n",
       "      <th>Katharine Hamnett</th>\n",
       "      <th>Base Control</th>\n",
       "      <th>ROEN</th>\n",
       "      <th>Mezlan</th>\n",
       "      <th>Disney</th>\n",
       "    </tr>\n",
       "  </thead>\n",
       "  <tbody>\n",
       "    <tr>\n",
       "      <th>0</th>\n",
       "      <td>0</td>\n",
       "      <td>Blake Griffin Los Angeles Clippers Jersey</td>\n",
       "      <td>Adidas × Nba</td>\n",
       "      <td>s</td>\n",
       "      <td>$35.00</td>\n",
       "      <td>$35.00</td>\n",
       "      <td>17 mins ago</td>\n",
       "      <td>NaN</td>\n",
       "      <td>0</td>\n",
       "      <td>0</td>\n",
       "      <td>...</td>\n",
       "      <td>0</td>\n",
       "      <td>0</td>\n",
       "      <td>0</td>\n",
       "      <td>0</td>\n",
       "      <td>0</td>\n",
       "      <td>0</td>\n",
       "      <td>0</td>\n",
       "      <td>0</td>\n",
       "      <td>0</td>\n",
       "      <td>0</td>\n",
       "    </tr>\n",
       "    <tr>\n",
       "      <th>1</th>\n",
       "      <td>1</td>\n",
       "      <td>SHIRT S/S 2013 Archival T-Shirt</td>\n",
       "      <td>Comme des Garcons</td>\n",
       "      <td>l</td>\n",
       "      <td>$188.00</td>\n",
       "      <td>$188.00</td>\n",
       "      <td>18 mins ago</td>\n",
       "      <td>NaN</td>\n",
       "      <td>0</td>\n",
       "      <td>0</td>\n",
       "      <td>...</td>\n",
       "      <td>0</td>\n",
       "      <td>0</td>\n",
       "      <td>0</td>\n",
       "      <td>0</td>\n",
       "      <td>0</td>\n",
       "      <td>0</td>\n",
       "      <td>0</td>\n",
       "      <td>0</td>\n",
       "      <td>0</td>\n",
       "      <td>0</td>\n",
       "    </tr>\n",
       "    <tr>\n",
       "      <th>2</th>\n",
       "      <td>2</td>\n",
       "      <td>WTB WACKO MARIA X UNION SHIRT</td>\n",
       "      <td>Union × Wacko Maria</td>\n",
       "      <td>xl</td>\n",
       "      <td>$1.00</td>\n",
       "      <td>$1.00</td>\n",
       "      <td>18 mins ago</td>\n",
       "      <td>NaN</td>\n",
       "      <td>0</td>\n",
       "      <td>0</td>\n",
       "      <td>...</td>\n",
       "      <td>0</td>\n",
       "      <td>0</td>\n",
       "      <td>0</td>\n",
       "      <td>0</td>\n",
       "      <td>0</td>\n",
       "      <td>0</td>\n",
       "      <td>0</td>\n",
       "      <td>0</td>\n",
       "      <td>0</td>\n",
       "      <td>0</td>\n",
       "    </tr>\n",
       "    <tr>\n",
       "      <th>3</th>\n",
       "      <td>3</td>\n",
       "      <td>Ramones low</td>\n",
       "      <td>Rick Owens</td>\n",
       "      <td>8.5</td>\n",
       "      <td>$500.00</td>\n",
       "      <td>$500.00</td>\n",
       "      <td>19 mins ago</td>\n",
       "      <td>NaN</td>\n",
       "      <td>0</td>\n",
       "      <td>0</td>\n",
       "      <td>...</td>\n",
       "      <td>0</td>\n",
       "      <td>0</td>\n",
       "      <td>0</td>\n",
       "      <td>0</td>\n",
       "      <td>0</td>\n",
       "      <td>0</td>\n",
       "      <td>0</td>\n",
       "      <td>0</td>\n",
       "      <td>0</td>\n",
       "      <td>0</td>\n",
       "    </tr>\n",
       "    <tr>\n",
       "      <th>4</th>\n",
       "      <td>4</td>\n",
       "      <td>Box Logo HBA shirt</td>\n",
       "      <td>Hood By Air</td>\n",
       "      <td>m</td>\n",
       "      <td>$235.00</td>\n",
       "      <td>$235.00</td>\n",
       "      <td>20 mins ago</td>\n",
       "      <td>NaN</td>\n",
       "      <td>0</td>\n",
       "      <td>0</td>\n",
       "      <td>...</td>\n",
       "      <td>0</td>\n",
       "      <td>0</td>\n",
       "      <td>0</td>\n",
       "      <td>0</td>\n",
       "      <td>0</td>\n",
       "      <td>0</td>\n",
       "      <td>0</td>\n",
       "      <td>0</td>\n",
       "      <td>0</td>\n",
       "      <td>0</td>\n",
       "    </tr>\n",
       "  </tbody>\n",
       "</table>\n",
       "<p>5 rows × 1502 columns</p>\n",
       "</div>"
      ],
      "text/plain": [
       "   ID                                      Title                Brand Size  \\\n",
       "0   0  Blake Griffin Los Angeles Clippers Jersey         Adidas × Nba    s   \n",
       "1   1            SHIRT S/S 2013 Archival T-Shirt    Comme des Garcons    l   \n",
       "2   2              WTB WACKO MARIA X UNION SHIRT  Union × Wacko Maria   xl   \n",
       "3   3                                Ramones low           Rick Owens  8.5   \n",
       "4   4                         Box Logo HBA shirt          Hood By Air    m   \n",
       "\n",
       "  Curr_Price Init_Price    Listed_At Bumped_At  Flag  Surface To Air   ...    \\\n",
       "0    $35.00     $35.00   17 mins ago       NaN     0               0   ...     \n",
       "1   $188.00    $188.00   18 mins ago       NaN     0               0   ...     \n",
       "2     $1.00      $1.00   18 mins ago       NaN     0               0   ...     \n",
       "3   $500.00    $500.00   19 mins ago       NaN     0               0   ...     \n",
       "4   $235.00    $235.00   20 mins ago       NaN     0               0   ...     \n",
       "\n",
       "   Goretex  Sanders  Acro  Alexander McQueen  Gosha Rubchinskiy  \\\n",
       "0        0        0     0                  0                  0   \n",
       "1        0        0     0                  0                  0   \n",
       "2        0        0     0                  0                  0   \n",
       "3        0        0     0                  0                  0   \n",
       "4        0        0     0                  0                  0   \n",
       "\n",
       "   Katharine Hamnett  Base Control  ROEN  Mezlan  Disney  \n",
       "0                  0             0     0       0       0  \n",
       "1                  0             0     0       0       0  \n",
       "2                  0             0     0       0       0  \n",
       "3                  0             0     0       0       0  \n",
       "4                  0             0     0       0       0  \n",
       "\n",
       "[5 rows x 1502 columns]"
      ]
     },
     "execution_count": 205,
     "metadata": {},
     "output_type": "execute_result"
    }
   ],
   "source": [
    "df.head()"
   ]
  },
  {
   "cell_type": "code",
   "execution_count": 206,
   "metadata": {},
   "outputs": [
    {
     "name": "stdout",
     "output_type": "stream",
     "text": [
      "['Alexander McQueen', 'Neighborhood', 'Alyx', 'Julius', 'Balmain', 'Moncler', 'Dries Van Noten', 'Issey Miyake', 'Needles', 'Comme Des Garcons Play', 'Burberry', 'Jordan Brand', 'Common Projects', 'John Elliott', 'Fendi', 'Vetements', 'Versace', 'Cav Empt', 'Dolce & Gabbana', 'Y-3', 'Fear of God', 'A.P.C.', 'Rick Owens Drkshdw', 'Chrome Hearts', 'Visvim', 'Yohji Yamamoto', 'Junya Watanabe', 'Gosha Rubchinskiy', 'Nike', 'Givenchy', 'Adidas', 'Helmut  Lang', 'Dior', 'Prada', 'Stone Island', 'Balenciaga', 'Acne Studios', 'Supreme', 'Rick Owens', 'Number (N)ine', 'Maison Margiela', 'Louis Vuitton', 'Comme Des Garcons Homme Plus', 'Raf Simons', 'Undercover', 'Bape', 'Off-White', 'Saint Laurent Paris', 'Comme des Garcons', 'Gucci']\n"
     ]
    },
    {
     "data": {
      "image/png": "[encoded data removed]",
      "text/plain": [
       "<matplotlib.figure.Figure at 0x1a22899cc0>"
      ]
     },
     "metadata": {},
     "output_type": "display_data"
    }
   ],
   "source": [
    "def brandPlot(df,brands):\n",
    "    \n",
    "    # get only the binary tags\n",
    "    df_brands = df[brands]\n",
    "    \n",
    "    # we want to collect the sum of each column\n",
    "    brandCount = {}\n",
    "    \n",
    "    for brand in brands:\n",
    "        \n",
    "        count = sum(df[brand])\n",
    "        brandCount[brand] = count\n",
    "            \n",
    "    # sort decreasing\n",
    "    xlabels = [key for key in sorted(brandCount, key = brandCount.get)][-50:]\n",
    "    print(xlabels[-50:])\n",
    "    sums = [brandCount[brand] for brand in xlabels]\n",
    "    \n",
    "    x_pos = np.arange(len(xlabels))\n",
    "    \n",
    "    # plotting\n",
    "    plt.figure(figsize=(10,20))\n",
    "    plt.barh(x_pos, sums, align='center', alpha=0.5, color = 'b')\n",
    "    \n",
    "    plt.yticks(x_pos, xlabels)\n",
    "    plt.xlabel('# Listing', fontsize = 12, labelpad=16)\n",
    "    plt.ylabel('Brand', fontsize = 12, labelpad=16)\n",
    "    plt.title('Grailed Brand Count', fontsize = 16)\n",
    "    plt.show()\n",
    "    return dict(zip(xlabels,sums))\n",
    "    \n",
    "    \n",
    "brand_counts = brandPlot(df,brand_list)"
   ]
  },
  {
   "cell_type": "code",
   "execution_count": 207,
   "metadata": {},
   "outputs": [],
   "source": [
    "df.to_pickle('./models/grailed_full.pkl')"
   ]
  },
  {
   "cell_type": "code",
   "execution_count": 208,
   "metadata": {},
   "outputs": [
    {
     "data": {
      "text/html": [
       "<div>\n",
       "<style>\n",
       "    .dataframe thead tr:only-child th {\n",
       "        text-align: right;\n",
       "    }\n",
       "\n",
       "    .dataframe thead th {\n",
       "        text-align: left;\n",
       "    }\n",
       "\n",
       "    .dataframe tbody tr th {\n",
       "        vertical-align: top;\n",
       "    }\n",
       "</style>\n",
       "<table border=\"1\" class=\"dataframe\">\n",
       "  <thead>\n",
       "    <tr style=\"text-align: right;\">\n",
       "      <th></th>\n",
       "      <th>ID</th>\n",
       "      <th>Title</th>\n",
       "      <th>Brand</th>\n",
       "      <th>Size</th>\n",
       "      <th>Curr_Price</th>\n",
       "      <th>Init_Price</th>\n",
       "      <th>Listed_At</th>\n",
       "      <th>Bumped_At</th>\n",
       "      <th>Flag</th>\n",
       "      <th>Surface To Air</th>\n",
       "      <th>...</th>\n",
       "      <th>Goretex</th>\n",
       "      <th>Sanders</th>\n",
       "      <th>Acro</th>\n",
       "      <th>Alexander McQueen</th>\n",
       "      <th>Gosha Rubchinskiy</th>\n",
       "      <th>Katharine Hamnett</th>\n",
       "      <th>Base Control</th>\n",
       "      <th>ROEN</th>\n",
       "      <th>Mezlan</th>\n",
       "      <th>Disney</th>\n",
       "    </tr>\n",
       "  </thead>\n",
       "  <tbody>\n",
       "    <tr>\n",
       "      <th>0</th>\n",
       "      <td>0</td>\n",
       "      <td>Blake Griffin Los Angeles Clippers Jersey</td>\n",
       "      <td>Adidas × Nba</td>\n",
       "      <td>s</td>\n",
       "      <td>$35.00</td>\n",
       "      <td>$35.00</td>\n",
       "      <td>17 mins ago</td>\n",
       "      <td>NaN</td>\n",
       "      <td>0</td>\n",
       "      <td>0</td>\n",
       "      <td>...</td>\n",
       "      <td>0</td>\n",
       "      <td>0</td>\n",
       "      <td>0</td>\n",
       "      <td>0</td>\n",
       "      <td>0</td>\n",
       "      <td>0</td>\n",
       "      <td>0</td>\n",
       "      <td>0</td>\n",
       "      <td>0</td>\n",
       "      <td>0</td>\n",
       "    </tr>\n",
       "    <tr>\n",
       "      <th>1</th>\n",
       "      <td>1</td>\n",
       "      <td>SHIRT S/S 2013 Archival T-Shirt</td>\n",
       "      <td>Comme des Garcons</td>\n",
       "      <td>l</td>\n",
       "      <td>$188.00</td>\n",
       "      <td>$188.00</td>\n",
       "      <td>18 mins ago</td>\n",
       "      <td>NaN</td>\n",
       "      <td>0</td>\n",
       "      <td>0</td>\n",
       "      <td>...</td>\n",
       "      <td>0</td>\n",
       "      <td>0</td>\n",
       "      <td>0</td>\n",
       "      <td>0</td>\n",
       "      <td>0</td>\n",
       "      <td>0</td>\n",
       "      <td>0</td>\n",
       "      <td>0</td>\n",
       "      <td>0</td>\n",
       "      <td>0</td>\n",
       "    </tr>\n",
       "    <tr>\n",
       "      <th>2</th>\n",
       "      <td>2</td>\n",
       "      <td>WTB WACKO MARIA X UNION SHIRT</td>\n",
       "      <td>Union × Wacko Maria</td>\n",
       "      <td>xl</td>\n",
       "      <td>$1.00</td>\n",
       "      <td>$1.00</td>\n",
       "      <td>18 mins ago</td>\n",
       "      <td>NaN</td>\n",
       "      <td>0</td>\n",
       "      <td>0</td>\n",
       "      <td>...</td>\n",
       "      <td>0</td>\n",
       "      <td>0</td>\n",
       "      <td>0</td>\n",
       "      <td>0</td>\n",
       "      <td>0</td>\n",
       "      <td>0</td>\n",
       "      <td>0</td>\n",
       "      <td>0</td>\n",
       "      <td>0</td>\n",
       "      <td>0</td>\n",
       "    </tr>\n",
       "    <tr>\n",
       "      <th>3</th>\n",
       "      <td>3</td>\n",
       "      <td>Ramones low</td>\n",
       "      <td>Rick Owens</td>\n",
       "      <td>8.5</td>\n",
       "      <td>$500.00</td>\n",
       "      <td>$500.00</td>\n",
       "      <td>19 mins ago</td>\n",
       "      <td>NaN</td>\n",
       "      <td>0</td>\n",
       "      <td>0</td>\n",
       "      <td>...</td>\n",
       "      <td>0</td>\n",
       "      <td>0</td>\n",
       "      <td>0</td>\n",
       "      <td>0</td>\n",
       "      <td>0</td>\n",
       "      <td>0</td>\n",
       "      <td>0</td>\n",
       "      <td>0</td>\n",
       "      <td>0</td>\n",
       "      <td>0</td>\n",
       "    </tr>\n",
       "    <tr>\n",
       "      <th>4</th>\n",
       "      <td>4</td>\n",
       "      <td>Box Logo HBA shirt</td>\n",
       "      <td>Hood By Air</td>\n",
       "      <td>m</td>\n",
       "      <td>$235.00</td>\n",
       "      <td>$235.00</td>\n",
       "      <td>20 mins ago</td>\n",
       "      <td>NaN</td>\n",
       "      <td>0</td>\n",
       "      <td>0</td>\n",
       "      <td>...</td>\n",
       "      <td>0</td>\n",
       "      <td>0</td>\n",
       "      <td>0</td>\n",
       "      <td>0</td>\n",
       "      <td>0</td>\n",
       "      <td>0</td>\n",
       "      <td>0</td>\n",
       "      <td>0</td>\n",
       "      <td>0</td>\n",
       "      <td>0</td>\n",
       "    </tr>\n",
       "  </tbody>\n",
       "</table>\n",
       "<p>5 rows × 1502 columns</p>\n",
       "</div>"
      ],
      "text/plain": [
       "   ID                                      Title                Brand Size  \\\n",
       "0   0  Blake Griffin Los Angeles Clippers Jersey         Adidas × Nba    s   \n",
       "1   1            SHIRT S/S 2013 Archival T-Shirt    Comme des Garcons    l   \n",
       "2   2              WTB WACKO MARIA X UNION SHIRT  Union × Wacko Maria   xl   \n",
       "3   3                                Ramones low           Rick Owens  8.5   \n",
       "4   4                         Box Logo HBA shirt          Hood By Air    m   \n",
       "\n",
       "  Curr_Price Init_Price    Listed_At Bumped_At  Flag  Surface To Air   ...    \\\n",
       "0    $35.00     $35.00   17 mins ago       NaN     0               0   ...     \n",
       "1   $188.00    $188.00   18 mins ago       NaN     0               0   ...     \n",
       "2     $1.00      $1.00   18 mins ago       NaN     0               0   ...     \n",
       "3   $500.00    $500.00   19 mins ago       NaN     0               0   ...     \n",
       "4   $235.00    $235.00   20 mins ago       NaN     0               0   ...     \n",
       "\n",
       "   Goretex  Sanders  Acro  Alexander McQueen  Gosha Rubchinskiy  \\\n",
       "0        0        0     0                  0                  0   \n",
       "1        0        0     0                  0                  0   \n",
       "2        0        0     0                  0                  0   \n",
       "3        0        0     0                  0                  0   \n",
       "4        0        0     0                  0                  0   \n",
       "\n",
       "   Katharine Hamnett  Base Control  ROEN  Mezlan  Disney  \n",
       "0                  0             0     0       0       0  \n",
       "1                  0             0     0       0       0  \n",
       "2                  0             0     0       0       0  \n",
       "3                  0             0     0       0       0  \n",
       "4                  0             0     0       0       0  \n",
       "\n",
       "[5 rows x 1502 columns]"
      ]
     },
     "execution_count": 208,
     "metadata": {},
     "output_type": "execute_result"
    }
   ],
   "source": [
    "df.head(5)"
   ]
  },
  {
   "cell_type": "code",
   "execution_count": 209,
   "metadata": {},
   "outputs": [
    {
     "name": "stdout",
     "output_type": "stream",
     "text": [
      "(23337, 1493)\n",
      "(7779, 1493)\n",
      "(23337,)\n",
      "(7779,)\n"
     ]
    }
   ],
   "source": [
    "from sklearn.cross_validation import train_test_split\n",
    "X=df[brand_list]\n",
    "y=df['Flag']\n",
    "X_train, X_test, y_train, y_test = train_test_split(X, y, random_state=1)\n",
    "print(X_train.shape)\n",
    "print(X_test.shape)\n",
    "print(y_train.shape)\n",
    "print(y_test.shape)"
   ]
  },
  {
   "cell_type": "code",
   "execution_count": 210,
   "metadata": {},
   "outputs": [],
   "source": [
    "from sklearn.naive_bayes import MultinomialNB\n",
    "nb = MultinomialNB()"
   ]
  },
  {
   "cell_type": "code",
   "execution_count": 211,
   "metadata": {},
   "outputs": [
    {
     "name": "stdout",
     "output_type": "stream",
     "text": [
      "CPU times: user 279 ms, sys: 155 ms, total: 434 ms\n",
      "Wall time: 332 ms\n"
     ]
    },
    {
     "data": {
      "text/plain": [
       "MultinomialNB(alpha=1.0, class_prior=None, fit_prior=True)"
      ]
     },
     "execution_count": 211,
     "metadata": {},
     "output_type": "execute_result"
    }
   ],
   "source": [
    "%time nb.fit(X_train, y_train)"
   ]
  },
  {
   "cell_type": "code",
   "execution_count": 212,
   "metadata": {},
   "outputs": [],
   "source": [
    "y_pred_class = nb.predict(X_test)"
   ]
  },
  {
   "cell_type": "code",
   "execution_count": 214,
   "metadata": {},
   "outputs": [
    {
     "data": {
      "text/plain": [
       "0.91721300938423966"
      ]
     },
     "execution_count": 214,
     "metadata": {},
     "output_type": "execute_result"
    }
   ],
   "source": [
    "from sklearn import metrics\n",
    "metrics.accuracy_score(y_test, y_pred_class)"
   ]
  },
  {
   "cell_type": "code",
   "execution_count": 215,
   "metadata": {},
   "outputs": [],
   "source": [
    "from sklearn.linear_model import LogisticRegression\n",
    "logreg = LogisticRegression()"
   ]
  },
  {
   "cell_type": "code",
   "execution_count": 216,
   "metadata": {},
   "outputs": [
    {
     "name": "stdout",
     "output_type": "stream",
     "text": [
      "CPU times: user 609 ms, sys: 158 ms, total: 767 ms\n",
      "Wall time: 779 ms\n"
     ]
    },
    {
     "data": {
      "text/plain": [
       "LogisticRegression(C=1.0, class_weight=None, dual=False, fit_intercept=True,\n",
       "          intercept_scaling=1, max_iter=100, multi_class='ovr', n_jobs=1,\n",
       "          penalty='l2', random_state=None, solver='liblinear', tol=0.0001,\n",
       "          verbose=0, warm_start=False)"
      ]
     },
     "execution_count": 216,
     "metadata": {},
     "output_type": "execute_result"
    }
   ],
   "source": [
    "%time logreg.fit(X_train, y_train)"
   ]
  },
  {
   "cell_type": "code",
   "execution_count": 217,
   "metadata": {},
   "outputs": [],
   "source": [
    "y_pred_class_l = logreg.predict(X_test)"
   ]
  },
  {
   "cell_type": "code",
   "execution_count": 218,
   "metadata": {},
   "outputs": [
    {
     "data": {
      "text/plain": [
       "0.92196940480781586"
      ]
     },
     "execution_count": 218,
     "metadata": {},
     "output_type": "execute_result"
    }
   ],
   "source": [
    "metrics.accuracy_score(y_test, y_pred_class_l)"
   ]
  },
  {
   "cell_type": "code",
   "execution_count": 219,
   "metadata": {},
   "outputs": [],
   "source": [
    "feature_list=brand_list"
   ]
  },
  {
   "cell_type": "code",
   "execution_count": 220,
   "metadata": {},
   "outputs": [],
   "source": [
    "feature_list.append('Title')"
   ]
  },
  {
   "cell_type": "code",
   "execution_count": 221,
   "metadata": {},
   "outputs": [
    {
     "name": "stdout",
     "output_type": "stream",
     "text": [
      "(23337, 1494)\n",
      "(7779, 1494)\n",
      "(23337,)\n",
      "(7779,)\n"
     ]
    }
   ],
   "source": [
    "from sklearn.cross_validation import train_test_split\n",
    "X=df[feature_list]\n",
    "y=df['Flag']\n",
    "X_train, X_test, y_train, y_test = train_test_split(X, y, random_state=1)\n",
    "print(X_train.shape)\n",
    "print(X_test.shape)\n",
    "print(y_train.shape)\n",
    "print(y_test.shape)"
   ]
  },
  {
   "cell_type": "code",
   "execution_count": 222,
   "metadata": {},
   "outputs": [
    {
     "data": {
      "text/plain": [
       "(23337, 9732)"
      ]
     },
     "execution_count": 222,
     "metadata": {},
     "output_type": "execute_result"
    }
   ],
   "source": [
    "from sklearn.feature_extraction.text import TfidfTransformer\n",
    "tfidf_transformer = TfidfTransformer()\n",
    "count_vect = CountVectorizer()\n",
    "title_matrix_train = count_vect.fit_transform(X_train.Title)\n",
    "title_matrix_train = tfidf_transformer.fit_transform(title_matrix_train)\n",
    "title_matrix_train.shape"
   ]
  },
  {
   "cell_type": "code",
   "execution_count": 230,
   "metadata": {},
   "outputs": [],
   "source": [
    "brand_matrix_train=scipy.sparse.csr_matrix(X_train[brand_list].values)"
   ]
  },
  {
   "cell_type": "code",
   "execution_count": 231,
   "metadata": {},
   "outputs": [],
   "source": [
    "combined_matrix_train=scipy.sparse.hstack([title_matrix_train,brand_matrix_train])"
   ]
  },
  {
   "cell_type": "code",
   "execution_count": 232,
   "metadata": {},
   "outputs": [
    {
     "data": {
      "text/plain": [
       "<23337x11225 sparse matrix of type '<class 'numpy.float64'>'\n",
       "\twith 146227 stored elements in COOrdinate format>"
      ]
     },
     "execution_count": 232,
     "metadata": {},
     "output_type": "execute_result"
    }
   ],
   "source": [
    "combined_matrix_train"
   ]
  },
  {
   "cell_type": "code",
   "execution_count": 233,
   "metadata": {},
   "outputs": [],
   "source": [
    "clf2 = MultinomialNB()"
   ]
  },
  {
   "cell_type": "code",
   "execution_count": 234,
   "metadata": {},
   "outputs": [
    {
     "name": "stdout",
     "output_type": "stream",
     "text": [
      "CPU times: user 31.4 ms, sys: 15.6 ms, total: 47 ms\n",
      "Wall time: 47.8 ms\n"
     ]
    },
    {
     "data": {
      "text/plain": [
       "MultinomialNB(alpha=1.0, class_prior=None, fit_prior=True)"
      ]
     },
     "execution_count": 234,
     "metadata": {},
     "output_type": "execute_result"
    }
   ],
   "source": [
    "%time clf2.fit(combined_matrix_train, y_train)"
   ]
  },
  {
   "cell_type": "code",
   "execution_count": 235,
   "metadata": {},
   "outputs": [],
   "source": [
    "title_matrix_test=count_vect.transform(X_test.Title)\n",
    "title_matrix_test=tfidf_transformer.transform(title_matrix_test)\n"
   ]
  },
  {
   "cell_type": "code",
   "execution_count": 236,
   "metadata": {},
   "outputs": [],
   "source": [
    "brand_matrix_test=scipy.sparse.csr_matrix(X_test[brand_list].values)"
   ]
  },
  {
   "cell_type": "code",
   "execution_count": 239,
   "metadata": {},
   "outputs": [],
   "source": [
    "combined_matrix_test=scipy.sparse.hstack([title_matrix_test,brand_matrix_test])"
   ]
  },
  {
   "cell_type": "code",
   "execution_count": 241,
   "metadata": {},
   "outputs": [
    {
     "data": {
      "text/plain": [
       "<7779x11225 sparse matrix of type '<class 'numpy.float64'>'\n",
       "\twith 47190 stored elements in COOrdinate format>"
      ]
     },
     "execution_count": 241,
     "metadata": {},
     "output_type": "execute_result"
    }
   ],
   "source": [
    "combined_matrix_test"
   ]
  },
  {
   "cell_type": "code",
   "execution_count": 242,
   "metadata": {},
   "outputs": [
    {
     "data": {
      "text/plain": [
       "0.91605604833526155"
      ]
     },
     "execution_count": 242,
     "metadata": {},
     "output_type": "execute_result"
    }
   ],
   "source": [
    "y_pred_class = clf2.predict(combined_matrix_test)\n",
    "\n",
    "metrics.accuracy_score(y_test, y_pred_class)\n"
   ]
  },
  {
   "cell_type": "code",
   "execution_count": 243,
   "metadata": {},
   "outputs": [],
   "source": [
    "from sklearn.svm import LinearSVC"
   ]
  },
  {
   "cell_type": "code",
   "execution_count": 244,
   "metadata": {},
   "outputs": [],
   "source": [
    "clf3= LinearSVC(random_state=0)"
   ]
  },
  {
   "cell_type": "code",
   "execution_count": 246,
   "metadata": {},
   "outputs": [
    {
     "name": "stdout",
     "output_type": "stream",
     "text": [
      "CPU times: user 141 ms, sys: 7.71 ms, total: 149 ms\n",
      "Wall time: 152 ms\n"
     ]
    },
    {
     "data": {
      "text/plain": [
       "LinearSVC(C=1.0, class_weight=None, dual=True, fit_intercept=True,\n",
       "     intercept_scaling=1, loss='squared_hinge', max_iter=1000,\n",
       "     multi_class='ovr', penalty='l2', random_state=0, tol=0.0001,\n",
       "     verbose=0)"
      ]
     },
     "execution_count": 246,
     "metadata": {},
     "output_type": "execute_result"
    }
   ],
   "source": [
    "%time clf3.fit(combined_matrix_train, y_train)"
   ]
  },
  {
   "cell_type": "code",
   "execution_count": 251,
   "metadata": {},
   "outputs": [
    {
     "data": {
      "text/plain": [
       "0.92274071217380127"
      ]
     },
     "execution_count": 251,
     "metadata": {},
     "output_type": "execute_result"
    }
   ],
   "source": [
    "y_pred_class = clf3.predict(combined_matrix_test)\n",
    "\n",
    "metrics.accuracy_score(y_test, y_pred_class)"
   ]
  },
  {
   "cell_type": "code",
   "execution_count": null,
   "metadata": {},
   "outputs": [],
   "source": []
  }
 ],
 "metadata": {
  "kernelspec": {
   "display_name": "Python 3",
   "language": "python",
   "name": "python3"
  },
  "language_info": {
   "codemirror_mode": {
    "name": "ipython",
    "version": 3
   },
   "file_extension": ".py",
   "mimetype": "text/x-python",
   "name": "python",
   "nbconvert_exporter": "python",
   "pygments_lexer": "ipython3",
   "version": "3.6.3"
  }
 },
 "nbformat": 4,
 "nbformat_minor": 2
}
